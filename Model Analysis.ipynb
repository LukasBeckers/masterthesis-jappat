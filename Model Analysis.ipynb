{
 "cells": [
  {
   "cell_type": "code",
   "execution_count": 1,
   "id": "54e5a328-7461-4e78-8862-96de705dcbe2",
   "metadata": {},
   "outputs": [
    {
     "name": "stderr",
     "output_type": "stream",
     "text": [
      "2023-08-01 18:41:49.957386: I tensorflow/core/util/port.cc:110] oneDNN custom operations are on. You may see slightly different numerical results due to floating-point round-off errors from different computation orders. To turn them off, set the environment variable `TF_ENABLE_ONEDNN_OPTS=0`.\n",
      "2023-08-01 18:41:49.975966: I tensorflow/core/platform/cpu_feature_guard.cc:182] This TensorFlow binary is optimized to use available CPU instructions in performance-critical operations.\n",
      "To enable the following instructions: AVX2 AVX512F AVX512_VNNI AVX512_BF16 FMA, in other operations, rebuild TensorFlow with the appropriate compiler flags.\n",
      "2023-08-01 18:41:50.396239: W tensorflow/compiler/tf2tensorrt/utils/py_utils.cc:38] TF-TRT Warning: Could not find TensorRT\n"
     ]
    },
    {
     "data": {
      "text/plain": [
       "('3.10.0 (default, Jul 12 2023, 08:49:30) [GCC 12.2.0]',\n",
       " '/home/worker/.pyenv/versions/3.10.0/bin/python3.10')"
      ]
     },
     "execution_count": 1,
     "metadata": {},
     "output_type": "execute_result"
    }
   ],
   "source": [
    "# Own Packages\n",
    "from Masterarbeit_utils.model_utils import get_tokenizer, load_and_modify_model, load_pretrained_Tokenizer\n",
    "\n",
    "# Site-Packages\n",
    "import dask.dataframe as dd\n",
    "import torch\n",
    "import psutil\n",
    "import os\n",
    "import sys\n",
    "import pickle as pk\n",
    "import pandas as pd\n",
    "import numpy as np\n",
    "\n",
    "from transformers import AutoTokenizer, OPTForCausalLM\n",
    "from tokenizers.processors import TemplateProcessing\n",
    "from transformers import Trainer, TrainingArguments, DataCollatorWithPadding\n",
    "from torch.utils.data import Dataset\n",
    "sys.version, sys.executable"
   ]
  },
  {
   "cell_type": "code",
   "execution_count": 2,
   "id": "f064cd55-6c4c-4d0d-a4a7-9faf5e9ae877",
   "metadata": {},
   "outputs": [
    {
     "data": {
      "text/plain": [
       "'just calculate needed'"
      ]
     },
     "execution_count": 2,
     "metadata": {},
     "output_type": "execute_result"
    }
   ],
   "source": [
    "choices = ['calculate all', 'ask for userinput', 'just calculate needed']\n",
    "calculation_profile =  choices[2]\n",
    "calculation_profile"
   ]
  },
  {
   "cell_type": "code",
   "execution_count": 3,
   "id": "b5e8bd44-8e8c-41f8-8086-8f093520c892",
   "metadata": {},
   "outputs": [],
   "source": [
    "\"\"\"\n",
    "The Paths to important folders have to be changed for your system.\n",
    "\"\"\"\n",
    "\n",
    "# Name of this experiment\n",
    "model_name = 'gal_125_8'\n",
    "\n",
    "# This folder will be created and filled with txt.files for each sample after you run the Pytorch Dataset Notebook\n",
    "dataset_folder = f'data/dataset_samples'\n",
    "\n",
    "# The folder at which the model will be saved. This folder has to be created for your system \n",
    "model_folder = f'data/models/{model_name}'\n",
    "os.makedirs(model_folder, exist_ok=True)\n",
    "\n",
    "\n",
    "# Folder in which the tokenizer will be saved\n",
    "tokenizer_folder = f'data/tokenizers/{model_name}'\n",
    "os.makedirs(tokenizer_folder, exist_ok=True)\n",
    "\n",
    "# Folder at which all pickle files are stored. This folder is fixed for this project and should not be changed\n",
    "dump_dir = r'PK_DUMP'\n",
    "\n",
    "# Model parameters \n",
    "'''\n",
    "mini\t125 M\n",
    "base\t1.3 B\n",
    "standard\t6.7 B\n",
    "large\t30 B\n",
    "huge\t120 B'''\n",
    "base_model_name = 'mini'\n",
    "\n",
    "# All new Torch-objects will be by default in this dtype\n",
    "# if default_type = float16 fp16 must be False\n",
    "default_dtype = torch.bfloat16\n",
    "torch.backends.cuda.matmul.allow_tf32 = True\n",
    "torch.set_default_dtype(default_dtype)\n",
    "\n",
    "# Default device on which the model will be loaded\n",
    "default_device = 'cpu'\n",
    "\n",
    "# Number of GPUs the model will be parallelised to \n",
    "num_gpus = 1\n",
    "# If you change 'default_device' to 'cpu', make sure to set num_gpus to zero.\n",
    "if default_device == 'cpu':\n",
    "    num_gpus = 0\n",
    "\n",
    "tensor_parallel = False\n"
   ]
  },
  {
   "cell_type": "markdown",
   "id": "47b06129-7179-43e2-8e3c-e8d8c2543571",
   "metadata": {},
   "source": [
    "# Creating the Tokenizer"
   ]
  },
  {
   "cell_type": "code",
   "execution_count": 4,
   "id": "dd265196-d3eb-4e46-be5a-97860017c369",
   "metadata": {},
   "outputs": [
    {
     "name": "stdout",
     "output_type": "stream",
     "text": [
      "Loadede Tokenizer from serialized instance!\n",
      "There are 378166 different F-Terms in the whole Dataset!\n"
     ]
    }
   ],
   "source": [
    "if calculation_profile == choices[0]:\n",
    "    i = 'y'\n",
    "elif calculation_profile == choices[1]:  \n",
    "    i = input(\"This creates a new tokenizer instance and saves it, if you want to proceed write y: \")\n",
    "else:\n",
    "    i = 'n'\n",
    "\n",
    "if i != 'y' and os.path.isfile(f'{tokenizer_folder}/tokenizer.json'):\n",
    "    tokenizer = AutoTokenizer.from_pretrained(tokenizer_folder)\n",
    "    n_f_terms = len(tokenizer) - tokenizer.vocab_size\n",
    "    print('Loadede Tokenizer from serialized instance!')    \n",
    "    print(f'There are {n_f_terms} different F-Terms in the whole Dataset!')\n",
    "    \n",
    "else:\n",
    "    # Loads a pretrained Tokenizer for the galactica model and adds an additional token for each F-Term\n",
    "    tokenizer = get_tokenizer(dump_dir)\n",
    "    \n",
    "    # The Tokenizer contained initially 50000 Tokens which are stored as the vocab-size.\n",
    "    # The vocab_size attribute is not updated when the additional tokens are added to the tokenizer\n",
    "    n_f_terms = len(tokenizer) - tokenizer.vocab_size\n",
    "    tokenizer.save_pretrained(tokenizer_folder)\n",
    "    print(f'There are {n_f_terms} different F-Terms in the whole Dataset!')"
   ]
  },
  {
   "cell_type": "markdown",
   "id": "f3a4cb1b-87a3-42d7-9cc8-358c19b7d40b",
   "metadata": {},
   "source": [
    "# Loading The Model"
   ]
  },
  {
   "cell_type": "code",
   "execution_count": 5,
   "id": "ee4e3dfa-af05-4a7a-a86b-35db53103afc",
   "metadata": {},
   "outputs": [],
   "source": [
    "device_map=None\n",
    "max_memory = {}\n",
    "if num_gpus > 0:\n",
    "    # based on https://github.com/huggingface/accelerate/blob/5315290b55ea9babd95a281a27c51d87b89d7c85/src/accelerate/utils/modeling.py#L274\n",
    "    for i in range(num_gpus):\n",
    "         _ = torch.tensor([0], device=i)\n",
    "    for i in range(num_gpus):\n",
    "        max_memory[i] = torch.cuda.mem_get_info(i)[0]\n",
    "    device_map = \"auto\"\n",
    "max_memory[\"cpu\"] = psutil.virtual_memory().available\n",
    "\n",
    "\n",
    "model = OPTForCausalLM.from_pretrained(f'{model_folder}/checkpoint-28000', torch_dtype=default_dtype, low_cpu_mem_usage=True,\n",
    "                                           device_map=device_map, max_memory=max_memory)\n",
    "\n"
   ]
  },
  {
   "cell_type": "markdown",
   "id": "2bbe502a-540d-4b83-b8cc-c17ac1a51bfb",
   "metadata": {},
   "source": [
    "# Loading the Datasets and the Tokenizer"
   ]
  },
  {
   "cell_type": "code",
   "execution_count": 6,
   "id": "dc43873f-570a-4ecd-b4ce-117b4e24e0df",
   "metadata": {},
   "outputs": [],
   "source": [
    "class JapPatDataset(Dataset):\n",
    "    \"\"\"Dataset containing Japanese patents and their F-Term classification\"\"\"\n",
    "    def __init__(self, data_folder, tokenizer):\n",
    "        \"\"\"\n",
    "        data_folder: path to folder containing the text samples\n",
    "        tokenizer: tokenizer instance with added additional Tokens for F-Terms\n",
    "        \"\"\"\n",
    "        super(Dataset).__init__()\n",
    "        self.data_folder = data_folder\n",
    "        # This has to be manually set to the ammount of files in the 'dataset_samples' folder. Calculating the number of files in this folder would take forever.\n",
    "        # A to low number would lead to samples missing from the dataset.\n",
    "        # A to high number would raise a FileNotFound error.\n",
    "        self.l = len(os.listdir(data_folder))\n",
    "        #self.l = 10000\n",
    "        self.tokenizer = tokenizer\n",
    "        \n",
    "    def __len__(self):\n",
    "        return self.l\n",
    "    \n",
    "    def __getitem__(self, idx):\n",
    "        try:\n",
    "            with open(f'{self.data_folder}/{idx}.txt', 'r', encoding='utf-8') as f:\n",
    "                item = f.read()\n",
    "        except FileNotFoundError:\n",
    "            raise FileNotFoundError\n",
    "        \n",
    "        # Tokenizing the item \n",
    "        # The Tokenizer will return a dict with the encoded text as 'input_ids', \n",
    "        # a mask which shows the tokens types this will not be needed for our applications\n",
    "        # and a mask for the attention mechanism as 'attention_mask' The attention mask will be needed to indicate, that the \n",
    "        # model should not attend to <pad> tokens.\n",
    "        \n",
    "        output = self.tokenizer(item)  \n",
    "        output.pop('token_type_ids')\n",
    "        return output"
   ]
  },
  {
   "cell_type": "code",
   "execution_count": 7,
   "id": "40cdb3b7-5ccb-4f6a-92a6-b8913b37d923",
   "metadata": {},
   "outputs": [],
   "source": [
    "\n",
    "train_dataset = JapPatDataset(f'{dataset_folder}/train', tokenizer)\n",
    "validation_dataset = JapPatDataset(f'{dataset_folder}/validation', tokenizer)\n",
    "\n",
    "# Loading a dict that contains the definitions of the f-terms\n",
    "with open(f'{dump_dir}/full_descriptions.pk', 'rb') as f:\n",
    "    full_descriptions_dict = pk.load(f)"
   ]
  },
  {
   "cell_type": "code",
   "execution_count": null,
   "id": "6f1dd923-2657-4994-8f6e-e50946180dc1",
   "metadata": {},
   "outputs": [],
   "source": []
  },
  {
   "cell_type": "code",
   "execution_count": 8,
   "id": "05310c6e-564d-444a-8509-7e8d57d2b258",
   "metadata": {},
   "outputs": [
    {
     "data": {
      "text/plain": [
       "('<s>PROBLEM TO BE SOLVED: To spread Internet advertisement such as an affiliate advertisement among members by effectively using a comment function of SNS.SOLUTION: In an advertisement providing system according to the present invention, when receiving a prescribed notification from an advertiser server 101, an SNS site control unit 108 identifies a first user identifier associated with a second user identifier, and transmits to a first communication terminal 100, comment data including user information relating to a user of a second communication terminal 100 and link information of a commercial Web site, as content data, on the basis of the identified first user identifier. Further, a result reward control unit 112 adds a first result reward to a result reward that has been given to the second user identifier.',\n",
       " '                         ',\n",
       " '5L049/BB08,<END F-TERMS>')"
      ]
     },
     "execution_count": 8,
     "metadata": {},
     "output_type": "execute_result"
    }
   ],
   "source": [
    "test_sample = validation_dataset[0]\n",
    "test_text= tokenizer.decode(test_sample['input_ids'])\n",
    "test_abstract, f_term_text = test_text.split('<START F-TERMS>')\n",
    "test_abstract, '                         ',f_term_text"
   ]
  },
  {
   "cell_type": "code",
   "execution_count": 9,
   "id": "784e415c-596b-4173-9375-b5e349da1cbc",
   "metadata": {},
   "outputs": [
    {
     "name": "stdout",
     "output_type": "stream",
     "text": [
      "prediction 5L049/BB08\n",
      "prediction <END F-TERMS>\n",
      "5L049/BB08 5L049/BB08\n",
      "<END F-TERMS> <END F-TERMS>\n"
     ]
    }
   ],
   "source": [
    "def generate(prompt, model, tokenizer, max_pred_tokens=10):\n",
    "    # adding the Start F-Term Token to the prompt to beginng the prediction of F-Terms\n",
    "    prompt += '<START F-TERMS>'\n",
    "\n",
    "    # Converting the prompt to tokens\n",
    "    eos_token_id = tokenizer.eos_token_id\n",
    "    tokenized = tokenizer(prompt, return_tensors='pt')\n",
    "    prompt_tokens = tokenized['input_ids'][:,:-1]\n",
    "    attention_mask = tokenized['attention_mask'][:, :-1]\n",
    "\n",
    "    # Generating the F-Terms\n",
    "    current_token = -100\n",
    "    predictions = []\n",
    "    while current_token != eos_token_id and len(predictions) < max_pred_tokens:\n",
    "\n",
    "        # Model Call\n",
    "        output = model(prompt_tokens, attention_mask, output_attentions=False, output_hidden_states=False, return_dict=True)\n",
    "        logits = output['logits']\n",
    "        # torch.max function returns values and indices, we are just interested in the indices.\n",
    "        indices = torch.max(logits, dim=-1)[1]\n",
    "        current_token = indices[0, -1]\n",
    "        # To make the predictions match the indices in the tokenizer we must add 50000 to the prediction, because the output does not have the 50000 text-tokens\n",
    "        current_token += 50000\n",
    "        predictions.append(current_token)\n",
    "        # Adding the prediction to the input sequence to predict the new token.\n",
    "        prompt_tokens = torch.cat([prompt_tokens, indices[:, -1:]], -1)\n",
    "        # Attention mask has to be updates as well\n",
    "        attention_mask = torch.cat([attention_mask, attention_mask[:,-1:]], -1)\n",
    "\n",
    "    predictions = tokenizer.decode(predictions)\n",
    "    return predictions\n",
    "        \n",
    "    \n",
    "        \n",
    "    \n",
    "    \n",
    "\n",
    "predictions = generate(test_abstract, model, tokenizer, 10)\n",
    "for p in predictions.split(','):\n",
    "    print('prediction', p)\n",
    "for p, t in zip(predictions.split(','), f_term_text.split(',')):\n",
    "    print(p, t)"
   ]
  },
  {
   "cell_type": "code",
   "execution_count": null,
   "id": "e5d298f0-5c60-4911-a9fa-a2c977818163",
   "metadata": {},
   "outputs": [],
   "source": [
    "def classic_accurracy(batch, model, top_k=1):\n",
    "    \"\"\"\n",
    "    Classic prediction accuracy metric. \n",
    "    This function should be applied to a batch of samples,\n",
    "    which were tokenized by a tokenizer instance.\n",
    "    This function returns the procentual accuracy metric as well as the total number of correct predictions\n",
    "    and the total number of predictions in this batch\n",
    "\n",
    "    :batch: batch of samples from validation dataset\n",
    "    :model: model which should be testet\n",
    "    :top_k: top k predictions which should be investigated for a correct result.\n",
    "    \"\"\"\n",
    "    with torch.no_grad():\n",
    "        model.eval()\n",
    "        logits = model(**batch, output_hidden_states=False, return_dict=True)['logits']\n",
    "\n",
    "    input_ids = batch['input_ids']\n",
    "    # Removing first label\n",
    "    labels = input_ids[:, 1:]\n",
    "    # removing last prediction\n",
    "    logits = logits[:, :-1]\n",
    "    # Sorting the logits to get the predictions orderd from highest to lowest\n",
    "    _, preds = torch.sort(logits, dim=-1, descending=True)\n",
    "    # Dropping all text predictions and labels, keeping just the predictions and labels for f-terms\n",
    "    token_threshold = 50000 # tokens with an ids_value below the token_threshold are removed\n",
    "    preds = preds[labels > token_threshold]\n",
    "    # only taking the top k predictions:\n",
    "    preds = preds[:,:top_k]\n",
    "    # the predictions are missing the 50000 text tokens so the predictions have to be increased by 50000\n",
    "    preds += 50000\n",
    "    labels = labels[labels > token_threshold]\n",
    "    n_preds = labels.shape[0] # number of values that are to be predicted\n",
    "\n",
    "    # expanding the labels to the same size as the predictions\n",
    "    labels = labels.unsqueeze(dim=-1)\n",
    "    labels = labels.expand(-1, top_k)\n",
    "    n_correct = len(labels[labels == preds])\n",
    "    accuracy = 100*n_correct/n_preds\n",
    "    return accuracy, n_correct, n_preds\n",
    "\n",
    "class Batch_DataLoader():\n",
    "    \"\"\"\n",
    "    This class converts a dataset to a iterable dataloader, which loads padded patches of data.   \n",
    "    \"\"\"\n",
    "    def __init__(self,\n",
    "                 dataset, \n",
    "                 batchsize=10,\n",
    "                 datacollator=DataCollatorWithPadding(tokenizer, return_tensors='pt')):\n",
    "\n",
    "        self.dataset = dataset\n",
    "        self.batchsize = batchsize\n",
    "        self.l = len(dataset)//batchsize + 1\n",
    "        self.datacollator = datacollator\n",
    "        self.current = 0\n",
    "\n",
    "    def __len__(self):\n",
    "        return self.l\n",
    "\n",
    "    def __iter__(self):\n",
    "        self.current = 0\n",
    "        return self\n",
    "\n",
    "    def __next__(self):\n",
    "        batch = [self.dataset[i] for i in range(self.current, self.current+self.batchsize)]\n",
    "        batch = self.datacollator(batch)\n",
    "        self.current += self.batchsize\n",
    "        return batch"
   ]
  },
  {
   "cell_type": "code",
   "execution_count": null,
   "id": "583a2b13-d64d-4c5f-bc1e-b03539e853ab",
   "metadata": {},
   "outputs": [],
   "source": [
    "def accuracy_on_dataset(dataset, model, top_k=1, batch_size=10):\n",
    "    loader = Batch_DataLoader(dataset, batch_size)\n",
    "    n_pred = 0\n",
    "    n_corr = 0\n",
    "    for i, batch in enumerate(loader):\n",
    "        acc, corr, pred = classic_accurracy(batch, model, top_k)\n",
    "        n_pred += pred\n",
    "        n_corr += corr\n",
    "        print(f'batch_acc: {acc:.2f}%, total_acc: {100*n_corr/n_pred:.2f}% batch {i}/{len(loader)}', end ='\\r')\n",
    "    return n_pred, n_corr\n",
    "    \n",
    "\n",
    "n_pred, n_corr = accuracy_on_dataset(validation_dataset, model, top_k=1, batch_size=100)"
   ]
  },
  {
   "cell_type": "code",
   "execution_count": null,
   "id": "23698986-6609-4f22-b652-cb3ac3f80582",
   "metadata": {},
   "outputs": [],
   "source": []
  },
  {
   "cell_type": "code",
   "execution_count": null,
   "id": "b244a118-b4b9-435f-856d-ccebed9778cc",
   "metadata": {},
   "outputs": [],
   "source": []
  }
 ],
 "metadata": {
  "kernelspec": {
   "display_name": "Python 3 (ipykernel)",
   "language": "python",
   "name": "python3"
  },
  "language_info": {
   "codemirror_mode": {
    "name": "ipython",
    "version": 3
   },
   "file_extension": ".py",
   "mimetype": "text/x-python",
   "name": "python",
   "nbconvert_exporter": "python",
   "pygments_lexer": "ipython3",
   "version": "3.10.0"
  }
 },
 "nbformat": 4,
 "nbformat_minor": 5
}
