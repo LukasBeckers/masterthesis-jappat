{
 "cells": [
  {
   "cell_type": "code",
   "execution_count": null,
   "id": "67c4d075-ef54-4a12-bb1a-dd3bbb4bd5a7",
   "metadata": {},
   "outputs": [],
   "source": [
    "import galai as gal\n",
    "import time#\n",
    "import torch\n",
    "from Masterarbeit_utils.model_utils import load_pretrained_model, load_pretrained_Tokenizer"
   ]
  },
  {
   "cell_type": "code",
   "execution_count": null,
   "id": "4b963329-bf2a-4cd0-b8d8-78ebb9c126ee",
   "metadata": {},
   "outputs": [],
   "source": [
    "default_dtype = torch.bfloat16\n",
    "torch.backends.cuda.matmul.allow_tf32 = True\n",
    "model = load_pretrained_model('huge', default_dtype, False, 1)"
   ]
  },
  {
   "cell_type": "code",
   "execution_count": null,
   "id": "8c937618-4694-4e0a-a81b-f16bdb58dabe",
   "metadata": {},
   "outputs": [],
   "source": [
    "tokenizer = load_pretrained_Tokenizer('huge')"
   ]
  },
  {
   "cell_type": "code",
   "execution_count": null,
   "id": "6de9c773-e093-4d91-b8ac-56bd8beea0ff",
   "metadata": {},
   "outputs": [],
   "source": [
    "input_sentence = \"Word Representations in Transformer Models\"\n",
    "\n",
    "tokenized = tokenizer(input_sentence, return_tensors='pt')\n",
    "tokenized.pop('token_type_ids')\n",
    "tokenized"
   ]
  },
  {
   "cell_type": "code",
   "execution_count": null,
   "id": "88558f40-4437-4ae9-8252-20c04a6b38cd",
   "metadata": {},
   "outputs": [],
   "source": [
    "\n",
    "start_time = time.time()\n",
    "out = model.generate(**tokenized)\n",
    "print(time.time() - start_time, '   Generated', out)"
   ]
  },
  {
   "cell_type": "code",
   "execution_count": null,
   "id": "050f5bad-76f5-4d1c-ad82-a0c0ba32b4ff",
   "metadata": {},
   "outputs": [],
   "source": [
    "tokenizer.decode(out[0])"
   ]
  },
  {
   "cell_type": "code",
   "execution_count": null,
   "id": "7d8552ad-4ed9-4af2-8e63-b238a3af589f",
   "metadata": {},
   "outputs": [],
   "source": [
    "out \n"
   ]
  },
  {
   "cell_type": "code",
   "execution_count": null,
   "id": "397d5530-5174-4f6a-a9be-fb9a48393dec",
   "metadata": {},
   "outputs": [],
   "source": []
  }
 ],
 "metadata": {
  "kernelspec": {
   "display_name": "Python 3 (ipykernel)",
   "language": "python",
   "name": "python3"
  },
  "language_info": {
   "codemirror_mode": {
    "name": "ipython",
    "version": 3
   },
   "file_extension": ".py",
   "mimetype": "text/x-python",
   "name": "python",
   "nbconvert_exporter": "python",
   "pygments_lexer": "ipython3",
   "version": "3.10.0"
  }
 },
 "nbformat": 4,
 "nbformat_minor": 5
}
