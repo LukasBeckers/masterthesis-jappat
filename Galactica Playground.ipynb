{
 "cells": [
  {
   "cell_type": "code",
   "execution_count": 1,
   "id": "67c4d075-ef54-4a12-bb1a-dd3bbb4bd5a7",
   "metadata": {},
   "outputs": [
    {
     "name": "stderr",
     "output_type": "stream",
     "text": [
      "2023-08-18 09:57:48.753661: I tensorflow/core/util/port.cc:110] oneDNN custom operations are on. You may see slightly different numerical results due to floating-point round-off errors from different computation orders. To turn them off, set the environment variable `TF_ENABLE_ONEDNN_OPTS=0`.\n",
      "2023-08-18 09:57:48.772587: I tensorflow/core/platform/cpu_feature_guard.cc:182] This TensorFlow binary is optimized to use available CPU instructions in performance-critical operations.\n",
      "To enable the following instructions: AVX2 AVX512F AVX512_VNNI AVX512_BF16 FMA, in other operations, rebuild TensorFlow with the appropriate compiler flags.\n",
      "2023-08-18 09:57:49.185618: W tensorflow/compiler/tf2tensorrt/utils/py_utils.cc:38] TF-TRT Warning: Could not find TensorRT\n"
     ]
    }
   ],
   "source": [
    "import galai as gal\n",
    "import time#\n",
    "import torch\n",
    "from Masterarbeit_utils.model_utils import load_pretrained_model, load_pretrained_Tokenizer"
   ]
  },
  {
   "cell_type": "code",
   "execution_count": 2,
   "id": "4b963329-bf2a-4cd0-b8d8-78ebb9c126ee",
   "metadata": {},
   "outputs": [
    {
     "name": "stdout",
     "output_type": "stream",
     "text": [
      "Max Memory {0: 24967512064, 'cpu': 195605467136}\n"
     ]
    },
    {
     "data": {
      "application/vnd.jupyter.widget-view+json": {
       "model_id": "ae535abb194e454194a5ae7693d803bd",
       "version_major": 2,
       "version_minor": 0
      },
      "text/plain": [
       "Loading checkpoint shards:   0%|          | 0/26 [00:00<?, ?it/s]"
      ]
     },
     "metadata": {},
     "output_type": "display_data"
    },
    {
     "data": {
      "application/vnd.jupyter.widget-view+json": {
       "model_id": "1f2041b950eb42b28a0714cf562ac3a8",
       "version_major": 2,
       "version_minor": 0
      },
      "text/plain": [
       "Downloading (…)neration_config.json:   0%|          | 0.00/137 [00:00<?, ?B/s]"
      ]
     },
     "metadata": {},
     "output_type": "display_data"
    }
   ],
   "source": [
    "default_dtype = torch.bfloat16\n",
    "torch.backends.cuda.matmul.allow_tf32 = True\n",
    "model = load_pretrained_model('huge', default_dtype, False, 1)"
   ]
  },
  {
   "cell_type": "code",
   "execution_count": 3,
   "id": "8c937618-4694-4e0a-a81b-f16bdb58dabe",
   "metadata": {},
   "outputs": [],
   "source": [
    "tokenizer = load_pretrained_Tokenizer('huge')"
   ]
  },
  {
   "cell_type": "code",
   "execution_count": 9,
   "id": "6de9c773-e093-4d91-b8ac-56bd8beea0ff",
   "metadata": {},
   "outputs": [
    {
     "data": {
      "text/plain": [
       "{'input_ids': tensor([[33184, 18477,   301, 23121,  6426]]), 'attention_mask': tensor([[1, 1, 1, 1, 1]])}"
      ]
     },
     "execution_count": 9,
     "metadata": {},
     "output_type": "execute_result"
    }
   ],
   "source": [
    "input_sentence = \"Word Representations in Transformer Models\"\n",
    "\n",
    "tokenized = tokenizer(input_sentence, return_tensors='pt')\n",
    "tokenized.pop('token_type_ids')\n",
    "tokenized"
   ]
  },
  {
   "cell_type": "code",
   "execution_count": 10,
   "id": "88558f40-4437-4ae9-8252-20c04a6b38cd",
   "metadata": {},
   "outputs": [
    {
     "name": "stderr",
     "output_type": "stream",
     "text": [
      "/home/worker/.pyenv/versions/3.10.0/lib/python3.10/site-packages/transformers/generation/utils.py:1288: UserWarning: Using `max_length`'s default (20) to control the generation length. This behaviour is deprecated and will be removed from the config in v5 of Transformers -- we recommend using `max_new_tokens` to control the maximum length of the generation.\n",
      "  warnings.warn(\n",
      "/home/worker/.pyenv/versions/3.10.0/lib/python3.10/site-packages/transformers/generation/utils.py:1374: UserWarning: You are calling .generate() with the `input_ids` being on a device type different than your model's device. `input_ids` is on cpu, whereas the model is on cuda. You may experience unexpected behaviors or slower generation. Please make sure that you have put `input_ids` to the correct device by calling for example input_ids = input_ids.to('cuda') before running `.generate()`.\n",
      "  warnings.warn(\n"
     ]
    },
    {
     "name": "stdout",
     "output_type": "stream",
     "text": [
      "600.4987413883209    Generated tensor([[33184, 18477,   301, 23121,  6426,    34, 18310, 45751,     5,    31,\n",
      "            36,   221,   221,    25,   243,    41,    36,    40,    36,    40]])\n"
     ]
    }
   ],
   "source": [
    "\n",
    "start_time = time.time()\n",
    "out = model.generate(**tokenized)\n",
    "print(time.time() - start_time, '   Generated', out)"
   ]
  },
  {
   "cell_type": "code",
   "execution_count": 13,
   "id": "050f5bad-76f5-4d1c-ad82-a0c0ba32b4ff",
   "metadata": {},
   "outputs": [
    {
     "data": {
      "text/plain": [
       "'Word Representations in Transformer Models, Kawakami[END_REF]).\\n\\n# 3.2.2'"
      ]
     },
     "execution_count": 13,
     "metadata": {},
     "output_type": "execute_result"
    }
   ],
   "source": [
    "tokenizer.decode(out[0])"
   ]
  },
  {
   "cell_type": "code",
   "execution_count": 12,
   "id": "7d8552ad-4ed9-4af2-8e63-b238a3af589f",
   "metadata": {},
   "outputs": [
    {
     "data": {
      "text/plain": [
       "tensor([[33184, 18477,   301, 23121,  6426,    34, 18310, 45751,     5,    31,\n",
       "            36,   221,   221,    25,   243,    41,    36,    40,    36,    40]])"
      ]
     },
     "execution_count": 12,
     "metadata": {},
     "output_type": "execute_result"
    }
   ],
   "source": [
    "out \n"
   ]
  },
  {
   "cell_type": "code",
   "execution_count": null,
   "id": "397d5530-5174-4f6a-a9be-fb9a48393dec",
   "metadata": {},
   "outputs": [],
   "source": []
  }
 ],
 "metadata": {
  "kernelspec": {
   "display_name": "Python 3 (ipykernel)",
   "language": "python",
   "name": "python3"
  },
  "language_info": {
   "codemirror_mode": {
    "name": "ipython",
    "version": 3
   },
   "file_extension": ".py",
   "mimetype": "text/x-python",
   "name": "python",
   "nbconvert_exporter": "python",
   "pygments_lexer": "ipython3",
   "version": "3.10.0"
  }
 },
 "nbformat": 4,
 "nbformat_minor": 5
}
