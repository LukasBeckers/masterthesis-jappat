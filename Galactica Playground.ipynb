{
 "cells": [
  {
   "cell_type": "code",
   "execution_count": null,
   "id": "67c4d075-ef54-4a12-bb1a-dd3bbb4bd5a7",
   "metadata": {},
   "outputs": [],
   "source": [
    "import galai as gal\n",
    "import time#\n",
    "import torch\n",
    "from Masterarbeit_utils.model_utils import load_pretrained_model, load_pretrained_Tokenizer"
   ]
  },
  {
   "cell_type": "code",
   "execution_count": null,
   "id": "9e7d3bf3-6ece-4f75-bd28-beee1ab62a3b",
   "metadata": {},
   "outputs": [],
   "source": [
    "# '\"base\" = 6.7 B \"large\" = 30 B \"huge\" = 120 B\n",
    "# \"huge\" is by far the best model but it is really slow and uses over 500 GiB of disk space\n",
    "# I recommend \"large\"\n",
    "model = gal.load_model('large')"
   ]
  },
  {
   "cell_type": "code",
   "execution_count": null,
   "id": "c04496ce-4051-4196-9a70-9eabaf28a9e0",
   "metadata": {},
   "outputs": [],
   "source": [
    "\n",
    "text = 'A key aspect of algorithmic technology opportunity discovery methods is the identification of similarities between technologies.'\n",
    "suggestions = 3\n",
    "diversity_penalty= 0.9\n",
    "model.generate_reference(text, suggestions=suggestions, diversity_penalty=diversity_penalty)"
   ]
  },
  {
   "cell_type": "code",
   "execution_count": null,
   "id": "1ea9a24f-7058-4b38-9c57-8cf745dcd1c5",
   "metadata": {},
   "outputs": [],
   "source": [
    "model.generate(text)"
   ]
  },
  {
   "cell_type": "code",
   "execution_count": null,
   "id": "adcafa68-a547-4dc6-bdd2-227601fd9375",
   "metadata": {},
   "outputs": [],
   "source": []
  }
 ],
 "metadata": {
  "kernelspec": {
   "display_name": "Python 3 (ipykernel)",
   "language": "python",
   "name": "python3"
  },
  "language_info": {
   "codemirror_mode": {
    "name": "ipython",
    "version": 3
   },
   "file_extension": ".py",
   "mimetype": "text/x-python",
   "name": "python",
   "nbconvert_exporter": "python",
   "pygments_lexer": "ipython3",
   "version": "3.10.0"
  }
 },
 "nbformat": 4,
 "nbformat_minor": 5
}
