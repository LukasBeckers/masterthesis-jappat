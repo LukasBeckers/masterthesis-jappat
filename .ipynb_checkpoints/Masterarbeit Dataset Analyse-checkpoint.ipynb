{
 "cells": [
  {
   "cell_type": "markdown",
   "id": "f14d1105-9dc4-45ba-a080-1f033a34ea05",
   "metadata": {},
   "source": [
    "In the first half of this notebook, the raw dataset is analyzed and some key metrics like the number of unique F-Terms in the dataset is computed. \n",
    "\n",
    "In the second half of this notebook, the scraped definitions of the F-terms are analyzed and the F-Term definitions are embeddet to multiple dictionaries."
   ]
  },
  {
   "cell_type": "markdown",
   "id": "ae941e2c",
   "metadata": {},
   "source": [
    "# Imports"
   ]
  },
  {
   "cell_type": "code",
   "execution_count": 1,
   "id": "e763630e",
   "metadata": {},
   "outputs": [],
   "source": [
    "import pandas as pd\n",
    "import numpy as np\n",
    "import csv\n",
    "import matplotlib.pyplot as plt\n",
    "from dask import dataframe as dd\n",
    "import dask\n",
    "import time\n",
    "import re\n",
    "import pickle as pk"
   ]
  },
  {
   "cell_type": "markdown",
   "id": "d3a554c3",
   "metadata": {},
   "source": [
    "# Loading the Dataset to a Dask DataFrame"
   ]
  },
  {
   "cell_type": "code",
   "execution_count": 2,
   "id": "b50aa51e",
   "metadata": {},
   "outputs": [
    {
     "name": "stdout",
     "output_type": "stream",
     "text": [
      "There are 10633331 patents listed in the dataset\n"
     ]
    },
    {
     "data": {
      "text/html": [
       "<div>\n",
       "<style scoped>\n",
       "    .dataframe tbody tr th:only-of-type {\n",
       "        vertical-align: middle;\n",
       "    }\n",
       "\n",
       "    .dataframe tbody tr th {\n",
       "        vertical-align: top;\n",
       "    }\n",
       "\n",
       "    .dataframe thead th {\n",
       "        text-align: right;\n",
       "    }\n",
       "</style>\n",
       "<table border=\"1\" class=\"dataframe\">\n",
       "  <thead>\n",
       "    <tr style=\"text-align: right;\">\n",
       "      <th></th>\n",
       "      <th>Unnamed: 0</th>\n",
       "      <th>appln_id</th>\n",
       "      <th>appln_abstract</th>\n",
       "      <th>jp_class_symbol</th>\n",
       "    </tr>\n",
       "  </thead>\n",
       "  <tbody>\n",
       "    <tr>\n",
       "      <th>0</th>\n",
       "      <td>0</td>\n",
       "      <td>24934713</td>\n",
       "      <td>PURPOSE:A process for producing moisture absor...</td>\n",
       "      <td>4L031/AA02,4L031/AA18,4L031/AB10,4L031/BA11,4L...</td>\n",
       "    </tr>\n",
       "    <tr>\n",
       "      <th>1</th>\n",
       "      <td>1</td>\n",
       "      <td>24934715</td>\n",
       "      <td>PURPOSE:To improve transmission characteristic...</td>\n",
       "      <td>5E044/BA04,5E044/BA06,5E044/BB06,5E044/BC01,5E...</td>\n",
       "    </tr>\n",
       "    <tr>\n",
       "      <th>2</th>\n",
       "      <td>2</td>\n",
       "      <td>24934719</td>\n",
       "      <td>PURPOSE:To enhance a breakwater function resul...</td>\n",
       "      <td>2D018/BA21,2D118/AA02,2D118/AA11,2D118/BA03,2D...</td>\n",
       "    </tr>\n",
       "    <tr>\n",
       "      <th>3</th>\n",
       "      <td>3</td>\n",
       "      <td>24934721</td>\n",
       "      <td>PURPOSE:To enhance the cooling efficiency and ...</td>\n",
       "      <td>5H609/BB19,5H609/PP01,5H609/QQ02,5H609/QQ11,5H...</td>\n",
       "    </tr>\n",
       "    <tr>\n",
       "      <th>4</th>\n",
       "      <td>4</td>\n",
       "      <td>24934727</td>\n",
       "      <td>PURPOSE:To prevent the leakage of fluid by a m...</td>\n",
       "      <td>3H041/AA00,3H041/AA01,3H041/AA02,3H041/AA07,3H...</td>\n",
       "    </tr>\n",
       "  </tbody>\n",
       "</table>\n",
       "</div>"
      ],
      "text/plain": [
       "   Unnamed: 0  appln_id                                     appln_abstract  \\\n",
       "0           0  24934713  PURPOSE:A process for producing moisture absor...   \n",
       "1           1  24934715  PURPOSE:To improve transmission characteristic...   \n",
       "2           2  24934719  PURPOSE:To enhance a breakwater function resul...   \n",
       "3           3  24934721  PURPOSE:To enhance the cooling efficiency and ...   \n",
       "4           4  24934727  PURPOSE:To prevent the leakage of fluid by a m...   \n",
       "\n",
       "                                     jp_class_symbol  \n",
       "0  4L031/AA02,4L031/AA18,4L031/AB10,4L031/BA11,4L...  \n",
       "1  5E044/BA04,5E044/BA06,5E044/BB06,5E044/BC01,5E...  \n",
       "2  2D018/BA21,2D118/AA02,2D118/AA11,2D118/BA03,2D...  \n",
       "3  5H609/BB19,5H609/PP01,5H609/QQ02,5H609/QQ11,5H...  \n",
       "4  3H041/AA00,3H041/AA01,3H041/AA02,3H041/AA07,3H...  "
      ]
     },
     "execution_count": 2,
     "metadata": {},
     "output_type": "execute_result"
    }
   ],
   "source": [
    "file = 'data/JPO_patents_abstracts_fterms'\n",
    "f_term_def_file = r'data/f-terms.csv'\n",
    "\n",
    "# Using dask because the file is way to big for memory.\n",
    "data = dask.dataframe.read_parquet(file, delimiter='\\t')\n",
    "l_data = len(data)\n",
    "\n",
    "pk_dump_dir = r'PK_DUMP'\n",
    "\n",
    "n_load = l_data\n",
    "\n",
    "print(f'There are {l_data} patents listed in the dataset')\n",
    "data.head()"
   ]
  },
  {
   "cell_type": "markdown",
   "id": "6672bc07",
   "metadata": {},
   "source": [
    "# Deleting Previous Pickle Files"
   ]
  },
  {
   "cell_type": "code",
   "execution_count": 3,
   "id": "8bba3224-0166-4396-a9e4-df712e084406",
   "metadata": {},
   "outputs": [
    {
     "name": "stdin",
     "output_type": "stream",
     "text": [
      "Warning! You are about to delete all previously computed files. If you want to continue write \"y\":  y\n"
     ]
    }
   ],
   "source": [
    "# Only run this cell when you want to recalculate the number of labels, the text_lengths and the label_embedding\n",
    "\n",
    "i = input('''Warning! You are about to delete all previously computed files. If you want to continue write \"y\": ''')\n",
    "\n",
    "if i == \"y\":\n",
    "    with open(pk_dump_dir + r'/n_labels', 'wb') as f:\n",
    "        pass\n",
    "    with open(pk_dump_dir + r'/text_lengths', 'wb') as f:\n",
    "        pass\n",
    "    with open(pk_dump_dir + r'/label_embedding', 'wb') as f:\n",
    "        pass"
   ]
  },
  {
   "cell_type": "markdown",
   "id": "0fb28ec9",
   "metadata": {},
   "source": [
    "# Extracting the abstract text-lengths and the labels"
   ]
  },
  {
   "cell_type": "code",
   "execution_count": 4,
   "id": "4a7d94ad",
   "metadata": {
    "editable": true,
    "slideshow": {
     "slide_type": ""
    },
    "tags": []
   },
   "outputs": [],
   "source": [
    "class LabelEmbedding():\n",
    "    \"\"\"\n",
    "    A class to count the occurrence of each individual label.\n",
    "    It also creates a dict, which contains each label and matches it to a number\n",
    "    \"\"\"\n",
    "    def __init__(self):\n",
    "        self.dict = {}\n",
    "        self.r_dict = {}\n",
    "        self.occurrence = []\n",
    "        \n",
    "        \n",
    "    def __call__(self, label):\n",
    "        try: \n",
    "            emb = self.dict[label]\n",
    "            self.occurrence[emb] += 1\n",
    "        except KeyError:\n",
    "            emb = len(self.dict)\n",
    "            self.dict[label] = emb\n",
    "            self.r_dict[emb] = label\n",
    "            self.occurrence.append(1)\n",
    "        \n",
    "        return emb\n",
    "    \n",
    "    def __len__(self):\n",
    "        return len(self.dict)\n",
    "    \n",
    "    def reverse(self, emb):\n",
    "        return self.r_dict[emb]"
   ]
  },
  {
   "cell_type": "code",
   "execution_count": 5,
   "id": "ef4c60f1-b175-48f1-a53d-3349e8c6f29f",
   "metadata": {
    "editable": true,
    "slideshow": {
     "slide_type": ""
    },
    "tags": []
   },
   "outputs": [
    {
     "name": "stdin",
     "output_type": "stream",
     "text": [
      "Warning! You are about to recalculate all metric files. If you want to continue write \"y\":  y\n"
     ]
    },
    {
     "name": "stdout",
     "output_type": "stream",
     "text": [
      "Processed 10633000 samples\r"
     ]
    }
   ],
   "source": [
    "# Run this cell only on your first run of this notebook, it takes really long.\n",
    "# All outputs will be saved and can be loaded from disk in \n",
    "# all following runs of this notebook.\n",
    "\n",
    "\n",
    "i = input('''Warning! You are about to recalculate all metric files. This will take a wile!\n",
    "If you want to continue write \"y\": ''')\n",
    "\n",
    "\n",
    "n_labels = []\n",
    "text_lengths = []\n",
    "    \n",
    "def get_text_lengths(line):\n",
    "    \"\"\"\n",
    "    Returns the length of the patent abstract.\n",
    "    \"\"\"\n",
    "    text = line['appln_abstract']\n",
    "    text = text.split()\n",
    "    return len(text)\n",
    "    \n",
    "    \n",
    "    def get_labels(line):\n",
    "        \"\"\"\n",
    "        Returns the f_term labels of a patent as a list of strings.\n",
    "        \"\"\"\n",
    "        f_terms = line['jp_class_symbol']\n",
    "        f_terms = f_terms.split(',')\n",
    "        return f_terms\n",
    "    \n",
    "    \n",
    "class LabelEmbedding():\n",
    "    def __init__(self):\n",
    "        self.dict = {}\n",
    "        self.r_dict = {}\n",
    "        self.occurrence = []\n",
    "            \n",
    "            \n",
    "    def __call__(self, label):\n",
    "        try: \n",
    "            emb = self.dict[label]\n",
    "            self.occurrence[emb] += 1\n",
    "        except KeyError:\n",
    "            emb = len(self.dict)\n",
    "            self.dict[label] = emb\n",
    "            self.r_dict[emb] = label\n",
    "            self.occurrence.append(1)\n",
    "            \n",
    "        return emb\n",
    "        \n",
    "    def __len__(self):\n",
    "        return len(self.dict)\n",
    "        \n",
    "    def reverse(self, emb):\n",
    "        return self.r_dict[emb]\n",
    "    \n",
    "if i == \"y\":\n",
    "    # Iterating over the whole dataset and extracting the text_lengths and the labels\n",
    "    label_embedding = LabelEmbedding()\n",
    "    for i, line in enumerate(data.iterrows()):\n",
    "        \n",
    "        # Processing the data\n",
    "        line = line[1]\n",
    "        labels_split = get_labels(line)\n",
    "        labels_split = [label_embedding(label) for label in labels_split]\n",
    "        \n",
    "        # storing in lists\n",
    "        n_labels.append(len(labels_split))\n",
    "        text_lengths.append(get_text_lengths(line))\n",
    "        \n",
    "        if i%1000 == 0:\n",
    "            print(f'Processed {i} samples', end='\\r')\n",
    "            \n",
    "        if i == n_load:\n",
    "            # Stopping when finnished\n",
    "            with open(pk_dump_dir + r'/n_labels', 'ab') as f:\n",
    "                pk.dump(n_labels, f)\n",
    "                n_labels = []\n",
    "            with open(pk_dump_dir + r'/text_lengths', 'ab') as f:\n",
    "                pk.dump(text_lengths, f)\n",
    "                text_lengths = []\n",
    "            break\n",
    "            \n",
    "        if i%100000 == 0 and i != 0:\n",
    "            # Saving chunks of processed data to not overflow the memory\n",
    "            with open(pk_dump_dir + r'/n_labels', 'ab') as f:\n",
    "                pk.dump(n_labels, f)\n",
    "                n_labels = []\n",
    "            with open(pk_dump_dir + r'/text_lengths', 'ab') as f:\n",
    "                pk.dump(text_lengths, f)\n",
    "                text_lengths = []\n",
    "    \n",
    "    # Saving the label_embedding to access them faster in the next runs of this notebook\n",
    "    with open(pk_dump_dir + r'/label_embedding', 'ab') as f:\n",
    "                pk.dump(label_embedding, f)"
   ]
  },
  {
   "cell_type": "markdown",
   "id": "ff640f0d",
   "metadata": {},
   "source": [
    "# Number of Labels in Dataset"
   ]
  },
  {
   "cell_type": "code",
   "execution_count": 6,
   "id": "a4a91398",
   "metadata": {},
   "outputs": [
    {
     "name": "stdout",
     "output_type": "stream",
     "text": [
      "Number of F-Term Labels in Dataset = 519042\n"
     ]
    }
   ],
   "source": [
    "with open(pk_dump_dir + r'/label_embedding', 'rb') as f: \n",
    "    label_embedding = pk.load(f)\n",
    "\n",
    "print(f'Number of F-Term Labels in Dataset = {len(label_embedding)}')"
   ]
  },
  {
   "cell_type": "markdown",
   "id": "74fc1875",
   "metadata": {},
   "source": [
    "# Plotting the Word Counts\n"
   ]
  },
  {
   "cell_type": "code",
   "execution_count": 7,
   "id": "84ce4b83",
   "metadata": {},
   "outputs": [
    {
     "data": {
      "image/png": "[encoded data removed]",
      "text/plain": [
       "<Figure size 640x480 with 1 Axes>"
      ]
     },
     "metadata": {},
     "output_type": "display_data"
    }
   ],
   "source": [
    "# Loading the list from Memory\n",
    "\n",
    "with open(pk_dump_dir + r'/text_lengths', 'rb') as f:\n",
    "    text_lengths = []\n",
    "    while True:\n",
    "        try: \n",
    "            text_lengths.extend(pk.load(f))\n",
    "        except EOFError:\n",
    "            break\n",
    "       \n",
    "hist_wc = plt.hist(text_lengths, bins=[i for i in range(400)])\n",
    "plt.xlabel('Text Length in Words')\n",
    "plt.ylabel('Occurrence in Dataset-Slice')\n",
    "plt.title(f'Patent Abstract Word Counts in {n_load} Samples')\n",
    "plt.show()"
   ]
  },
  {
   "cell_type": "markdown",
   "id": "60969875",
   "metadata": {
    "editable": true,
    "slideshow": {
     "slide_type": ""
    },
    "tags": []
   },
   "source": [
    "# Plotting the Labels per Patent"
   ]
  },
  {
   "cell_type": "code",
   "execution_count": 8,
   "id": "f65d673a",
   "metadata": {},
   "outputs": [
    {
     "data": {
      "image/png": "[encoded data removed]",
      "text/plain": [
       "<Figure size 640x480 with 1 Axes>"
      ]
     },
     "metadata": {},
     "output_type": "display_data"
    }
   ],
   "source": [
    "with open(pk_dump_dir + r'/n_labels', 'rb') as f:\n",
    "    n_labels = []\n",
    "    while True:\n",
    "        try: \n",
    "            n_labels.extend(pk.load(f))\n",
    "        except EOFError:\n",
    "            break\n",
    "\n",
    "hist_lpp = plt.hist(n_labels, bins=[i for i in range(260)])\n",
    "plt.xlabel(f'Labels per Patent')\n",
    "plt.ylabel('Occurrence in Dataset-Slice')\n",
    "plt.title('Histogram of Labels per Patent')\n",
    "plt.show()"
   ]
  },
  {
   "cell_type": "code",
   "execution_count": 9,
   "id": "ee5b516e",
   "metadata": {},
   "outputs": [
    {
     "name": "stdout",
     "output_type": "stream",
     "text": [
      "\n",
      "There are 234866.0 patents that only have one label! \n"
     ]
    }
   ],
   "source": [
    "# Getting the number of patents with just one label\n",
    "l_single = hist_lpp[0][1]\n",
    "\n",
    "print(f'''\n",
    "There are {l_single} patents that only have one label! ''')"
   ]
  },
  {
   "cell_type": "markdown",
   "id": "cb4d6e68",
   "metadata": {},
   "source": [
    "# Counting the Occurrence of Each Label\n"
   ]
  },
  {
   "cell_type": "code",
   "execution_count": 10,
   "id": "77a62034",
   "metadata": {},
   "outputs": [
    {
     "name": "stdout",
     "output_type": "stream",
     "text": [
      "The maximum occurrence of a label is 101403 times in the 10633331 samples dataset-slice.\n"
     ]
    }
   ],
   "source": [
    "occurrences = label_embedding.occurrence\n",
    "\n",
    "\n",
    "print(f'The maximum occurrence of a label is {max(occurrences)} times in the {n_load} samples dataset-slice.')"
   ]
  },
  {
   "cell_type": "markdown",
   "id": "c9c1f178",
   "metadata": {},
   "source": [
    "# Plotting the Label Occurrences\n"
   ]
  },
  {
   "cell_type": "code",
   "execution_count": 11,
   "id": "3d8360a0",
   "metadata": {},
   "outputs": [
    {
     "data": {
      "image/png": "[encoded data removed]",
      "text/plain": [
       "<Figure size 640x480 with 1 Axes>"
      ]
     },
     "metadata": {},
     "output_type": "display_data"
    }
   ],
   "source": [
    "hist = plt.hist(occurrences, bins=np.arange(500))\n",
    "plt.title(f'Occurrences of Labels in {n_load} Samples')\n",
    "plt.xlabel(f'Occurrence of Label in Dataset')\n",
    "plt.ylabel(f'Labels With this Occurrence')\n",
    "plt.show()"
   ]
  },
  {
   "cell_type": "code",
   "execution_count": 12,
   "id": "cf2b9682",
   "metadata": {},
   "outputs": [
    {
     "name": "stdout",
     "output_type": "stream",
     "text": [
      "There are 22268 labels that only occur once in the dataset-slice.\n"
     ]
    }
   ],
   "source": [
    "ind = np.argwhere(np.array(occurrences) == 1)\n",
    "l_one_time = len(np.array(occurrences)[ind])\n",
    "print(f'There are {l_one_time} labels that only occur once in the dataset-slice.')"
   ]
  },
  {
   "cell_type": "markdown",
   "id": "63327123",
   "metadata": {},
   "source": [
    "# All F-Terms in the Dataset"
   ]
  },
  {
   "cell_type": "code",
   "execution_count": 13,
   "id": "2ea90c27",
   "metadata": {},
   "outputs": [],
   "source": [
    "f_terms = [k for k, v in label_embedding.dict.items()]"
   ]
  },
  {
   "cell_type": "markdown",
   "id": "88c8fea5",
   "metadata": {},
   "source": [
    "# Splitting the F-Terms "
   ]
  },
  {
   "cell_type": "code",
   "execution_count": 14,
   "id": "b44f1ded",
   "metadata": {},
   "outputs": [
    {
     "data": {
      "text/html": [
       "<div>\n",
       "<style scoped>\n",
       "    .dataframe tbody tr th:only-of-type {\n",
       "        vertical-align: middle;\n",
       "    }\n",
       "\n",
       "    .dataframe tbody tr th {\n",
       "        vertical-align: top;\n",
       "    }\n",
       "\n",
       "    .dataframe thead th {\n",
       "        text-align: right;\n",
       "    }\n",
       "</style>\n",
       "<table border=\"1\" class=\"dataframe\">\n",
       "  <thead>\n",
       "    <tr style=\"text-align: right;\">\n",
       "      <th></th>\n",
       "      <th>theme</th>\n",
       "      <th>viewpoint</th>\n",
       "      <th>number</th>\n",
       "      <th>additional code</th>\n",
       "    </tr>\n",
       "  </thead>\n",
       "  <tbody>\n",
       "    <tr>\n",
       "      <th>0</th>\n",
       "      <td>4L031</td>\n",
       "      <td>AA</td>\n",
       "      <td>02</td>\n",
       "      <td></td>\n",
       "    </tr>\n",
       "    <tr>\n",
       "      <th>1</th>\n",
       "      <td>4L031</td>\n",
       "      <td>AA</td>\n",
       "      <td>18</td>\n",
       "      <td></td>\n",
       "    </tr>\n",
       "    <tr>\n",
       "      <th>2</th>\n",
       "      <td>4L031</td>\n",
       "      <td>AB</td>\n",
       "      <td>10</td>\n",
       "      <td></td>\n",
       "    </tr>\n",
       "    <tr>\n",
       "      <th>3</th>\n",
       "      <td>4L031</td>\n",
       "      <td>BA</td>\n",
       "      <td>11</td>\n",
       "      <td></td>\n",
       "    </tr>\n",
       "    <tr>\n",
       "      <th>4</th>\n",
       "      <td>4L031</td>\n",
       "      <td>CA</td>\n",
       "      <td>01</td>\n",
       "      <td></td>\n",
       "    </tr>\n",
       "  </tbody>\n",
       "</table>\n",
       "</div>"
      ],
      "text/plain": [
       "   theme viewpoint number additional code\n",
       "0  4L031        AA     02                \n",
       "1  4L031        AA     18                \n",
       "2  4L031        AB     10                \n",
       "3  4L031        BA     11                \n",
       "4  4L031        CA     01                "
      ]
     },
     "execution_count": 14,
     "metadata": {},
     "output_type": "execute_result"
    }
   ],
   "source": [
    "def split_f_term(f_term):\n",
    "    \"\"\"\n",
    "    This function splits an f_term into a hirachical order of classes.\n",
    "    \n",
    "    :f_term:   string: f_term as a string\n",
    "    \n",
    "    :return:   list of strings: f_term classes as a list of strings.\n",
    "    \"\"\"\n",
    "    try:\n",
    "        theme_code, term_code = f_term.split('/')\n",
    "    except Exception:\n",
    "        return f_term, '', '', ''\n",
    "    view_point = term_code[:2]\n",
    "    digit = term_code[2:4]\n",
    "    additional_code = term_code[4:]\n",
    "    #print(f'theme-code: {theme_code}, term-code: {term_code}, view_point: {view_point}, digit: {digit}, additional-code: {additional_code}')\n",
    "    return theme_code, view_point, digit, additional_code\n",
    "    \n",
    "\n",
    "classes_list = [split_f_term(f_term) for f_term in f_terms]\n",
    "classes = pd.DataFrame(classes_list, columns=[\"theme\", \"viewpoint\", \"number\", \"additional code\"])\n",
    "classes.head()"
   ]
  },
  {
   "cell_type": "markdown",
   "id": "95c04645",
   "metadata": {},
   "source": [
    "# Loading the F-Term Definitions File"
   ]
  },
  {
   "cell_type": "code",
   "execution_count": 15,
   "id": "df6bbe24",
   "metadata": {},
   "outputs": [
    {
     "name": "stdout",
     "output_type": "stream",
     "text": [
      "There are 402173 entrys in the F-Terms CSV file\n"
     ]
    },
    {
     "data": {
      "text/html": [
       "<div>\n",
       "<style scoped>\n",
       "    .dataframe tbody tr th:only-of-type {\n",
       "        vertical-align: middle;\n",
       "    }\n",
       "\n",
       "    .dataframe tbody tr th {\n",
       "        vertical-align: top;\n",
       "    }\n",
       "\n",
       "    .dataframe thead th {\n",
       "        text-align: right;\n",
       "    }\n",
       "</style>\n",
       "<table border=\"1\" class=\"dataframe\">\n",
       "  <thead>\n",
       "    <tr style=\"text-align: right;\">\n",
       "      <th></th>\n",
       "      <th>Unnamed: 0</th>\n",
       "      <th>fi_class</th>\n",
       "      <th>theme</th>\n",
       "      <th>theme_label</th>\n",
       "      <th>viewpoint</th>\n",
       "      <th>viewpoint_label</th>\n",
       "      <th>number</th>\n",
       "      <th>label</th>\n",
       "    </tr>\n",
       "  </thead>\n",
       "  <tbody>\n",
       "    <tr>\n",
       "      <th>0</th>\n",
       "      <td>0</td>\n",
       "      <td>B27D5/00</td>\n",
       "      <td>2B002</td>\n",
       "      <td>Finished plywoods (secondary processing of ven...</td>\n",
       "      <td>AA</td>\n",
       "      <td>PLYWOODS</td>\n",
       "      <td>AA01</td>\n",
       "      <td>. Overlaid plywoods</td>\n",
       "    </tr>\n",
       "    <tr>\n",
       "      <th>1</th>\n",
       "      <td>1</td>\n",
       "      <td>B27D5/00</td>\n",
       "      <td>2B002</td>\n",
       "      <td>Finished plywoods (secondary processing of ven...</td>\n",
       "      <td>AA</td>\n",
       "      <td>PLYWOODS</td>\n",
       "      <td>AA02</td>\n",
       "      <td>. . Wood veneers</td>\n",
       "    </tr>\n",
       "    <tr>\n",
       "      <th>2</th>\n",
       "      <td>2</td>\n",
       "      <td>B27D5/00</td>\n",
       "      <td>2B002</td>\n",
       "      <td>Finished plywoods (secondary processing of ven...</td>\n",
       "      <td>AA</td>\n",
       "      <td>PLYWOODS</td>\n",
       "      <td>AA03</td>\n",
       "      <td>. . Synthetic resins</td>\n",
       "    </tr>\n",
       "    <tr>\n",
       "      <th>3</th>\n",
       "      <td>3</td>\n",
       "      <td>B27D5/00</td>\n",
       "      <td>2B002</td>\n",
       "      <td>Finished plywoods (secondary processing of ven...</td>\n",
       "      <td>AA</td>\n",
       "      <td>PLYWOODS</td>\n",
       "      <td>AA04</td>\n",
       "      <td>. . Papers and cloths</td>\n",
       "    </tr>\n",
       "    <tr>\n",
       "      <th>4</th>\n",
       "      <td>4</td>\n",
       "      <td>B27D5/00</td>\n",
       "      <td>2B002</td>\n",
       "      <td>Finished plywoods (secondary processing of ven...</td>\n",
       "      <td>AA</td>\n",
       "      <td>PLYWOODS</td>\n",
       "      <td>AA05</td>\n",
       "      <td>. Surface worked plywoods</td>\n",
       "    </tr>\n",
       "  </tbody>\n",
       "</table>\n",
       "</div>"
      ],
      "text/plain": [
       "   Unnamed: 0  fi_class  theme  \\\n",
       "0           0  B27D5/00  2B002   \n",
       "1           1  B27D5/00  2B002   \n",
       "2           2  B27D5/00  2B002   \n",
       "3           3  B27D5/00  2B002   \n",
       "4           4  B27D5/00  2B002   \n",
       "\n",
       "                                         theme_label viewpoint  \\\n",
       "0  Finished plywoods (secondary processing of ven...        AA   \n",
       "1  Finished plywoods (secondary processing of ven...        AA   \n",
       "2  Finished plywoods (secondary processing of ven...        AA   \n",
       "3  Finished plywoods (secondary processing of ven...        AA   \n",
       "4  Finished plywoods (secondary processing of ven...        AA   \n",
       "\n",
       "  viewpoint_label number                      label  \n",
       "0        PLYWOODS   AA01        . Overlaid plywoods  \n",
       "1        PLYWOODS   AA02           . . Wood veneers  \n",
       "2        PLYWOODS   AA03       . . Synthetic resins  \n",
       "3        PLYWOODS   AA04      . . Papers and cloths  \n",
       "4        PLYWOODS   AA05  . Surface worked plywoods  "
      ]
     },
     "execution_count": 15,
     "metadata": {},
     "output_type": "execute_result"
    }
   ],
   "source": [
    "# Loading the defenitions of the F-Terms\n",
    "f_term_def = pd.read_csv(f_term_def_file)\n",
    "print(f'There are {len(f_term_def)} entrys in the F-Terms CSV file')\n",
    "f_term_def.head()"
   ]
  },
  {
   "cell_type": "code",
   "execution_count": 16,
   "id": "e70bcde1",
   "metadata": {},
   "outputs": [
    {
     "name": "stdout",
     "output_type": "stream",
     "text": [
      "There are 2275 unique themes and number 2246 theme-labels in the f-terms CSV-file!\n"
     ]
    }
   ],
   "source": [
    "# Counting the number of themes.\n",
    "themes = f_term_def['theme']\n",
    "n_themes = len(set(themes))\n",
    "theme_labels = f_term_def['theme_label']\n",
    "n_theme_labels = len(set(theme_labels))\n",
    "print(f'There are {n_themes} unique themes and number {n_theme_labels} theme-labels in the f-terms CSV-file!')"
   ]
  },
  {
   "cell_type": "code",
   "execution_count": 17,
   "id": "bb8cb08e",
   "metadata": {},
   "outputs": [
    {
     "name": "stdout",
     "output_type": "stream",
     "text": [
      "Double Match Found:\n",
      "        \n",
      "Theme= 3H032, expected theme= 3H031\n",
      "Label= Non-positive-displacement blowers, expected label = Non-positive-displacement blowers\n",
      "\n",
      "Double Match Found:\n",
      "        \n",
      "Theme= 5H181, expected theme= 5H180\n",
      "Label= TRAFFIC CONTROL SYSTEMS, expected label = TRAFFIC CONTROL SYSTEMS\n",
      "\n",
      "Double Match Found:\n",
      "        \n",
      "Theme= 2D013, expected theme= 2D011\n",
      "Label= Earth-moving machines and construction methods, excluding excavators, expected label = Earth-moving machines and construction methods, excluding excavators\n",
      "\n",
      "Double Match Found:\n",
      "        \n",
      "Theme= 5E223, expected theme= 5E123\n",
      "Label= Mating device and connection to printed circuit, expected label = Mating device and connection to printed circuit\n",
      "\n",
      "Double Match Found:\n",
      "        \n",
      "Theme= 5F241, expected theme= 5F141\n",
      "Label= LED elements (other than package), expected label = LED elements (other than package)\n",
      "\n",
      "Double Match Found:\n",
      "        \n",
      "Theme= 5G352, expected theme= 5G351\n",
      "Label= Installation of wire cables, expected label = Installation of wire cables\n",
      "\n",
      "Double Match Found:\n",
      "        \n",
      "Theme= 5G378, expected theme= 5G377\n",
      "Label= Gas and oil filled cable accessories, expected label = Gas and oil filled cable accessories\n",
      "\n",
      "Double Match Found:\n",
      "        \n",
      "Theme= 5G352, expected theme= 5G352\n",
      "Label= Installation of wire cables, expected label = nan\n",
      "\n",
      "Double Match Found:\n",
      "        \n",
      "Theme= 5L206, expected theme= 5L106\n",
      "Label= Semiconductor Memory Reliability Technology, expected label = Semiconductor Memory Reliability Technology\n",
      "\n"
     ]
    }
   ],
   "source": [
    "# Checking for contradicting theme - theme_label definitions\n",
    "current_theme = ''\n",
    "current_label = ''\n",
    "n_missmatches = 0\n",
    "for i, row in f_term_def[['theme', 'theme_label']].iterrows():\n",
    "    theme, theme_label = row\n",
    "    if theme != current_theme and theme_label != current_label:\n",
    "        current_theme = theme\n",
    "        current_label = theme_label\n",
    "    elif theme != current_theme or theme_label != current_label:\n",
    "        if theme == current_theme and theme_label!=theme_label:\n",
    "            continue\n",
    "        n_missmatches += 1\n",
    "        print(f'''Double Match Found:\n",
    "        \n",
    "Theme= {theme}, expected theme= {current_theme}\n",
    "Label= {theme_label}, expected label = {current_label}\n",
    "''')\n",
    "        current_theme = theme\n",
    "        current_label = theme_label"
   ]
  },
  {
   "cell_type": "markdown",
   "id": "75a3ccc1",
   "metadata": {},
   "source": [
    "### There are several theme_labels attributed to more than one theme. \n",
    "### There are also theme_labels which are nan"
   ]
  },
  {
   "cell_type": "code",
   "execution_count": 18,
   "id": "e0f6c926",
   "metadata": {},
   "outputs": [
    {
     "name": "stdout",
     "output_type": "stream",
     "text": [
      "Number of themes after dropping duplicates: 2275\n"
     ]
    }
   ],
   "source": [
    "# Dropping all duplicate theme rows, but keeping duplicate theme_labels\n",
    "themes_and_labels = f_term_def[['theme', 'theme_label']]\n",
    "themes_and_labels = themes_and_labels.drop_duplicates(subset=['theme'])\n",
    "l_d = len(themes_and_labels)\n",
    "\n",
    "print(f'''Number of themes after dropping duplicates: {l_d}''')"
   ]
  },
  {
   "cell_type": "markdown",
   "id": "567552d4",
   "metadata": {},
   "source": [
    "# Theme-Label Issues\n"
   ]
  },
  {
   "cell_type": "code",
   "execution_count": 19,
   "id": "fa65e3bb",
   "metadata": {},
   "outputs": [
    {
     "data": {
      "text/html": [
       "<div>\n",
       "<style scoped>\n",
       "    .dataframe tbody tr th:only-of-type {\n",
       "        vertical-align: middle;\n",
       "    }\n",
       "\n",
       "    .dataframe tbody tr th {\n",
       "        vertical-align: top;\n",
       "    }\n",
       "\n",
       "    .dataframe thead th {\n",
       "        text-align: right;\n",
       "    }\n",
       "</style>\n",
       "<table border=\"1\" class=\"dataframe\">\n",
       "  <thead>\n",
       "    <tr style=\"text-align: right;\">\n",
       "      <th></th>\n",
       "      <th>theme</th>\n",
       "      <th>theme_label</th>\n",
       "    </tr>\n",
       "  </thead>\n",
       "  <tbody>\n",
       "    <tr>\n",
       "      <th>7467</th>\n",
       "      <td>2B106</td>\n",
       "      <td>FISHING (2): FISHING NETS</td>\n",
       "    </tr>\n",
       "    <tr>\n",
       "      <th>7645</th>\n",
       "      <td>2B107</td>\n",
       "      <td>Fishing (1): Fishhooks and fishing lines</td>\n",
       "    </tr>\n",
       "  </tbody>\n",
       "</table>\n",
       "</div>"
      ],
      "text/plain": [
       "      theme                               theme_label\n",
       "7467  2B106                 FISHING (2): FISHING NETS\n",
       "7645  2B107  Fishing (1): Fishhooks and fishing lines"
      ]
     },
     "execution_count": 19,
     "metadata": {},
     "output_type": "execute_result"
    }
   ],
   "source": [
    "# There are several small issues concerning the theme-labels\n",
    "\n",
    "# Inconsistent usage of large and lower case\n",
    "themes_and_labels.iloc[44:46]"
   ]
  },
  {
   "cell_type": "code",
   "execution_count": 20,
   "id": "0529d992",
   "metadata": {},
   "outputs": [
    {
     "data": {
      "text/html": [
       "<div>\n",
       "<style scoped>\n",
       "    .dataframe tbody tr th:only-of-type {\n",
       "        vertical-align: middle;\n",
       "    }\n",
       "\n",
       "    .dataframe tbody tr th {\n",
       "        vertical-align: top;\n",
       "    }\n",
       "\n",
       "    .dataframe thead th {\n",
       "        text-align: right;\n",
       "    }\n",
       "</style>\n",
       "<table border=\"1\" class=\"dataframe\">\n",
       "  <thead>\n",
       "    <tr style=\"text-align: right;\">\n",
       "      <th></th>\n",
       "      <th>theme</th>\n",
       "      <th>theme_label</th>\n",
       "    </tr>\n",
       "  </thead>\n",
       "  <tbody>\n",
       "    <tr>\n",
       "      <th>341031</th>\n",
       "      <td>3C019</td>\n",
       "      <td>Machine tool drive and feed</td>\n",
       "    </tr>\n",
       "    <tr>\n",
       "      <th>341045</th>\n",
       "      <td>3C023</td>\n",
       "      <td>柄</td>\n",
       "    </tr>\n",
       "    <tr>\n",
       "      <th>341095</th>\n",
       "      <td>3C026</td>\n",
       "      <td>Removable Power Tools</td>\n",
       "    </tr>\n",
       "  </tbody>\n",
       "</table>\n",
       "</div>"
      ],
      "text/plain": [
       "        theme                  theme_label\n",
       "341031  3C019  Machine tool drive and feed\n",
       "341045  3C023                            柄\n",
       "341095  3C026        Removable Power Tools"
      ]
     },
     "execution_count": 20,
     "metadata": {},
     "output_type": "execute_result"
    }
   ],
   "source": [
    "# Untranslated words:\n",
    "\n",
    "themes_and_labels.iloc[1874:1877]"
   ]
  },
  {
   "cell_type": "code",
   "execution_count": 21,
   "id": "c06a8fa6",
   "metadata": {},
   "outputs": [
    {
     "data": {
      "text/html": [
       "<div>\n",
       "<style scoped>\n",
       "    .dataframe tbody tr th:only-of-type {\n",
       "        vertical-align: middle;\n",
       "    }\n",
       "\n",
       "    .dataframe tbody tr th {\n",
       "        vertical-align: top;\n",
       "    }\n",
       "\n",
       "    .dataframe thead th {\n",
       "        text-align: right;\n",
       "    }\n",
       "</style>\n",
       "<table border=\"1\" class=\"dataframe\">\n",
       "  <thead>\n",
       "    <tr style=\"text-align: right;\">\n",
       "      <th></th>\n",
       "      <th>theme</th>\n",
       "      <th>theme_label</th>\n",
       "    </tr>\n",
       "  </thead>\n",
       "  <tbody>\n",
       "    <tr>\n",
       "      <th>349151</th>\n",
       "      <td>3L057</td>\n",
       "      <td>Ventilation 2</td>\n",
       "    </tr>\n",
       "    <tr>\n",
       "      <th>349219</th>\n",
       "      <td>3L059</td>\n",
       "      <td>Ventilation 4</td>\n",
       "    </tr>\n",
       "    <tr>\n",
       "      <th>349268</th>\n",
       "      <td>3L066</td>\n",
       "      <td>Detail of a typical heat exchange or heat transfer device4</td>\n",
       "    </tr>\n",
       "    <tr>\n",
       "      <th>349358</th>\n",
       "      <td>3L067</td>\n",
       "      <td>Detail of a typical heat exchange or heat transfer device5</td>\n",
       "    </tr>\n",
       "  </tbody>\n",
       "</table>\n",
       "</div>"
      ],
      "text/plain": [
       "        theme                                                 theme_label\n",
       "349151  3L057                                               Ventilation 2\n",
       "349219  3L059                                               Ventilation 4\n",
       "349268  3L066  Detail of a typical heat exchange or heat transfer device4\n",
       "349358  3L067  Detail of a typical heat exchange or heat transfer device5"
      ]
     },
     "execution_count": 21,
     "metadata": {},
     "output_type": "execute_result"
    }
   ],
   "source": [
    "# Bad theme descriptions with little differentiation\n",
    "\n",
    "pd.options.display.max_colwidth = 100\n",
    "themes_and_labels.iloc[1952: 1956]"
   ]
  },
  {
   "cell_type": "code",
   "execution_count": 22,
   "id": "f9370868",
   "metadata": {},
   "outputs": [
    {
     "name": "stdout",
     "output_type": "stream",
     "text": [
      "Problem: There are 2598 unique themes in the dataset-slice, but only 2275 themes in the dataset_dict\n"
     ]
    }
   ],
   "source": [
    "t_df = classes['theme']\n",
    "\n",
    "print(f'Problem: There are {len(set(t_df))} unique themes in the dataset-slice, but only {len(themes_and_labels)} themes in the dataset_dict')"
   ]
  },
  {
   "cell_type": "markdown",
   "id": "ea395428",
   "metadata": {},
   "source": [
    "# Create (incomplete) F-Terms Dictionaries"
   ]
  },
  {
   "cell_type": "code",
   "execution_count": 23,
   "id": "a63fc167",
   "metadata": {},
   "outputs": [
    {
     "data": {
      "text/html": [
       "<div>\n",
       "<style scoped>\n",
       "    .dataframe tbody tr th:only-of-type {\n",
       "        vertical-align: middle;\n",
       "    }\n",
       "\n",
       "    .dataframe tbody tr th {\n",
       "        vertical-align: top;\n",
       "    }\n",
       "\n",
       "    .dataframe thead th {\n",
       "        text-align: right;\n",
       "    }\n",
       "</style>\n",
       "<table border=\"1\" class=\"dataframe\">\n",
       "  <thead>\n",
       "    <tr style=\"text-align: right;\">\n",
       "      <th></th>\n",
       "      <th>theme</th>\n",
       "      <th>theme_label</th>\n",
       "      <th>viewpoint</th>\n",
       "      <th>viewpoint_label</th>\n",
       "      <th>number</th>\n",
       "      <th>label</th>\n",
       "    </tr>\n",
       "  </thead>\n",
       "  <tbody>\n",
       "    <tr>\n",
       "      <th>0</th>\n",
       "      <td>2B002</td>\n",
       "      <td>finished plywoods (secondary processing of veneers or plywoods)</td>\n",
       "      <td>AA</td>\n",
       "      <td>plywoods</td>\n",
       "      <td>01</td>\n",
       "      <td>. overlaid plywoods</td>\n",
       "    </tr>\n",
       "    <tr>\n",
       "      <th>1</th>\n",
       "      <td>2B002</td>\n",
       "      <td>finished plywoods (secondary processing of veneers or plywoods)</td>\n",
       "      <td>AA</td>\n",
       "      <td>plywoods</td>\n",
       "      <td>02</td>\n",
       "      <td>. . wood veneers</td>\n",
       "    </tr>\n",
       "    <tr>\n",
       "      <th>2</th>\n",
       "      <td>2B002</td>\n",
       "      <td>finished plywoods (secondary processing of veneers or plywoods)</td>\n",
       "      <td>AA</td>\n",
       "      <td>plywoods</td>\n",
       "      <td>03</td>\n",
       "      <td>. . synthetic resins</td>\n",
       "    </tr>\n",
       "    <tr>\n",
       "      <th>3</th>\n",
       "      <td>2B002</td>\n",
       "      <td>finished plywoods (secondary processing of veneers or plywoods)</td>\n",
       "      <td>AA</td>\n",
       "      <td>plywoods</td>\n",
       "      <td>04</td>\n",
       "      <td>. . papers and cloths</td>\n",
       "    </tr>\n",
       "    <tr>\n",
       "      <th>4</th>\n",
       "      <td>2B002</td>\n",
       "      <td>finished plywoods (secondary processing of veneers or plywoods)</td>\n",
       "      <td>AA</td>\n",
       "      <td>plywoods</td>\n",
       "      <td>05</td>\n",
       "      <td>. surface worked plywoods</td>\n",
       "    </tr>\n",
       "  </tbody>\n",
       "</table>\n",
       "</div>"
      ],
      "text/plain": [
       "   theme                                                      theme_label  \\\n",
       "0  2B002  finished plywoods (secondary processing of veneers or plywoods)   \n",
       "1  2B002  finished plywoods (secondary processing of veneers or plywoods)   \n",
       "2  2B002  finished plywoods (secondary processing of veneers or plywoods)   \n",
       "3  2B002  finished plywoods (secondary processing of veneers or plywoods)   \n",
       "4  2B002  finished plywoods (secondary processing of veneers or plywoods)   \n",
       "\n",
       "  viewpoint viewpoint_label number                      label  \n",
       "0        AA        plywoods     01        . overlaid plywoods  \n",
       "1        AA        plywoods     02           . . wood veneers  \n",
       "2        AA        plywoods     03       . . synthetic resins  \n",
       "3        AA        plywoods     04      . . papers and cloths  \n",
       "4        AA        plywoods     05  . surface worked plywoods  "
      ]
     },
     "execution_count": 23,
     "metadata": {},
     "output_type": "execute_result"
    }
   ],
   "source": [
    "def extract_number(raw_number):\n",
    "    if raw_number != raw_number:\n",
    "        return ''\n",
    "    return re.findall(r'\\d+', raw_number)[0]\n",
    "\n",
    "def extract_information_from_line(line):\n",
    "    theme = line[\"theme\"]\n",
    "    viewpoint = line[\"viewpoint\"]\n",
    "    number = line[\"number\"]\n",
    "        \n",
    "    # some numbers are nan, droppin these, removing viewpoint from number\n",
    "    exact_number = extract_number(number)\n",
    "        \n",
    "    # checking for nan in viewpoint\n",
    "    if viewpoint != viewpoint:\n",
    "        # number also contains view-point\n",
    "        if number != number:\n",
    "            number = ''\n",
    "        viewpoint = number\n",
    "        exact_number = ''\n",
    "            \n",
    "    theme_txt = str(line['theme_label']).lower()\n",
    "    viewpoint_txt = str(line['viewpoint_label']).lower()\n",
    "    number_txt = str(line['label']).lower()\n",
    "    \n",
    "    return [theme, theme_txt, viewpoint, viewpoint_txt, exact_number, number_txt]\n",
    "\n",
    "\n",
    "def clean_data(f_term_definitions):\n",
    "    \"\"\"\n",
    "    :f_term_definitions: pd.DataFrame: Loaded CSV file\n",
    "    \n",
    "    :return: Dataframe with cleand data\n",
    "    \"\"\"\n",
    "    \n",
    "    extracted_data = [extract_information_from_line(line) for i, line in f_term_definitions.iterrows()]\n",
    "    extracted_data = pd.DataFrame(extracted_data, columns=['theme', 'theme_label', 'viewpoint', 'viewpoint_label', 'number', 'label'])\n",
    "    return extracted_data\n",
    "    \n",
    "    \n",
    "clean_data = clean_data(f_term_def)\n",
    "clean_data.head()"
   ]
  },
  {
   "cell_type": "code",
   "execution_count": 24,
   "id": "1055eaf4",
   "metadata": {},
   "outputs": [
    {
     "name": "stderr",
     "output_type": "stream",
     "text": [
      "/tmp/ipykernel_328617/1978094704.py:11: SettingWithCopyWarning: \n",
      "A value is trying to be set on a copy of a slice from a DataFrame.\n",
      "Try using .loc[row_indexer,col_indexer] = value instead\n",
      "\n",
      "See the caveats in the documentation: https://pandas.pydata.org/pandas-docs/stable/user_guide/indexing.html#returning-a-view-versus-a-copy\n",
      "  viewpoint_df['theme_viewpoint'] = viewpoint_df['theme'] + '/' + viewpoint_df['viewpoint']\n",
      "/tmp/ipykernel_328617/1978094704.py:16: SettingWithCopyWarning: \n",
      "A value is trying to be set on a copy of a slice from a DataFrame.\n",
      "Try using .loc[row_indexer,col_indexer] = value instead\n",
      "\n",
      "See the caveats in the documentation: https://pandas.pydata.org/pandas-docs/stable/user_guide/indexing.html#returning-a-view-versus-a-copy\n",
      "  number_df['key'] = number_df['theme'] + '/' + number_df['viewpoint'] + number_df['number']\n"
     ]
    }
   ],
   "source": [
    "def create_dicts(clean_f_terms):\n",
    "    \"\"\"\n",
    "    Creates dictionarys to look up the description of themes, viewpoints and numbers for all f-terms in the f-term-definitions\n",
    "    file.\n",
    "    \"\"\"\n",
    "    theme_df = clean_f_terms[['theme', 'theme_label']]\n",
    "    theme_df = theme_df.drop_duplicates(subset=['theme'])\n",
    "    theme_dict = {line[0]: line[1] for i, line in theme_df.iterrows()}\n",
    "    \n",
    "    viewpoint_df = clean_f_terms[['theme', 'viewpoint', 'viewpoint_label' ]]\n",
    "    viewpoint_df['theme_viewpoint'] = viewpoint_df['theme'] + '/' + viewpoint_df['viewpoint']\n",
    "    viewpoint_df = viewpoint_df[['theme_viewpoint', 'viewpoint_label']]\n",
    "    viewpoint_dict = {line[0]: line[1] for i, line in viewpoint_df.iterrows()}\n",
    "       \n",
    "    number_df = clean_f_terms[['theme', 'viewpoint', 'number', 'label']]\n",
    "    number_df['key'] = number_df['theme'] + '/' + number_df['viewpoint'] + number_df['number']\n",
    "    number_df = number_df[['key', 'label']]\n",
    "    number_dict = {line[0]: line[1] for i, line in number_df.iterrows()}\n",
    "    \n",
    "    return {'theme_dict': theme_dict, 'viewpoint_dict': viewpoint_dict, 'number_dict': number_dict}\n",
    "    \n",
    "f_term_dicts = create_dicts(clean_data)\n",
    "\n",
    "theme_dict = f_term_dicts['theme_dict']\n",
    "viewpoint_dict = f_term_dicts['viewpoint_dict']\n",
    "number_dict = f_term_dicts['number_dict']"
   ]
  },
  {
   "cell_type": "code",
   "execution_count": 25,
   "id": "f113abf6",
   "metadata": {},
   "outputs": [],
   "source": [
    "with open(f'{pk_dump_dir}/f_term_dict.pk', 'wb') as f:\n",
    "    pk.dump(number_dict, f)"
   ]
  },
  {
   "cell_type": "code",
   "execution_count": 26,
   "id": "79b2877d",
   "metadata": {},
   "outputs": [],
   "source": [
    "def convert_to_numpy(list_of_classes):\n",
    "    \"\"\"\n",
    "    This function converts a list of string-classes created by calling the split_f_term-function on all samples in the \n",
    "    dataset-splice to a numpyarray and also returns a dict of usefull dicts for recreating the original labels.\n",
    "    \n",
    "    :list_of_classes:  list of strings: List of classes produced by the split_f_term-function.\n",
    "    \n",
    "    :returns:          Numpy array: List of classes imbedded in an numpy array.\n",
    "    :returns:          dict of dicts: Dict with all dicts needed to recreate the orignial classes.\n",
    "    \"\"\"\n",
    "    theme_codes = set([c[0] for c in list_of_classes])\n",
    "    viewpoints = set([c[1] for c in list_of_classes])\n",
    "    digits = set([c[2] for c in list_of_classes])\n",
    "    additional_code = set([c[3] for c in list_of_classes])\n",
    "\n",
    "    theme_codes_dict = {x: i for i, x in enumerate(theme_codes)}\n",
    "    viewpoints_dict = {x: i for i, x in enumerate(viewpoints)}\n",
    "    digits_dict = {x: i for i, x in enumerate(digits)}\n",
    "    additional_code_dict = {x: i for i, x in enumerate(additional_code)}\n",
    "    \n",
    "    list_of_classes = [[theme_codes_dict[t], viewpoints_dict[v], digits_dict[d], additional_code_dict[a]] \n",
    "                       for t, v, d, a in list_of_classes]\n",
    "    \n",
    "    list_of_classes = np.array(list_of_classes)\n",
    "    \n",
    "    reversed_theme_codes_dict = {v: k for k, v in theme_codes_dict.items()}\n",
    "    reversed_viewpoints_dict = {v: k for k, v in viewpoints_dict.items()}\n",
    "    reversed_digits_dict = {v: k for k, v in digits_dict.items()}\n",
    "    reversed_additional_code_dict = {v: k for k, v in additional_code_dict.items()}\n",
    "    \n",
    "    dicts_dict = {'reversed_theme_codes_dict': reversed_theme_codes_dict,\n",
    "                  'reversed_viewpoints_dict': reversed_viewpoints_dict,\n",
    "                  'reversed_digits_dict': reversed_digits_dict,\n",
    "                  'reversed_additional_code_dict': reversed_additional_code_dict, \n",
    "                  \n",
    "                  'theme_codes_dict': theme_codes_dict,\n",
    "                  'viewpoints_dict': viewpoints_dict,\n",
    "                  'digits_dict': digits_dict,\n",
    "                  'additional_code_dict': additional_code_dict}\n",
    "    return list_of_classes, dicts_dict"
   ]
  },
  {
   "cell_type": "code",
   "execution_count": 27,
   "id": "53e2555f-f2b6-4e4e-a3ea-fdf3b701bde5",
   "metadata": {},
   "outputs": [],
   "source": [
    "np_classes, dictofdicts = convert_to_numpy(classes_list)"
   ]
  },
  {
   "cell_type": "markdown",
   "id": "c906d2a2",
   "metadata": {},
   "source": [
    "# Counting the Occurrence of Each Class"
   ]
  },
  {
   "cell_type": "code",
   "execution_count": 28,
   "id": "f90d9c5f",
   "metadata": {},
   "outputs": [],
   "source": [
    "# Theme classes\n",
    "theme_keys, theme_occ = np.unique(np_classes[:,0], return_counts=True)\n",
    "ind = np.argsort(theme_occ)\n",
    "theme_keys, theme_occ = theme_keys[ind], theme_occ[ind]\n",
    "\n",
    "# Viewpoints classes\n",
    "view_keys, view_occ = np.unique(np_classes[:,1], return_counts=True)\n",
    "ind = np.argsort(view_occ)\n",
    "view_keys, view_occ = view_keys[ind], view_occ[ind]\n",
    "\n",
    "# Digits classes\n",
    "digits_keys, digits_occ = np.unique(np_classes[:, 2], return_counts=True)\n",
    "ind = np.argsort(digits_occ)\n",
    "digits_keys, digits_occ = digits_keys[ind], digits_occ[ind]\n",
    "\n",
    "# Additional Code classes\n",
    "code_keys, code_occ = np.unique(np_classes[:, 3], return_counts=True)\n",
    "ind = np.argsort(code_occ)\n",
    "code_keys, code_occ = code_keys[ind], code_occ[ind]\n"
   ]
  },
  {
   "cell_type": "code",
   "execution_count": null,
   "id": "87602cab-9469-4af1-8307-652a68fef2cb",
   "metadata": {},
   "outputs": [],
   "source": []
  }
 ],
 "metadata": {
  "kernelspec": {
   "display_name": "Python 3 (ipykernel)",
   "language": "python",
   "name": "python3"
  },
  "language_info": {
   "codemirror_mode": {
    "name": "ipython",
    "version": 3
   },
   "file_extension": ".py",
   "mimetype": "text/x-python",
   "name": "python",
   "nbconvert_exporter": "python",
   "pygments_lexer": "ipython3",
   "version": "3.11.4"
  }
 },
 "nbformat": 4,
 "nbformat_minor": 5
}
