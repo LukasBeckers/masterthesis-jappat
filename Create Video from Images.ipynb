{
 "cells": [
  {
   "cell_type": "code",
   "execution_count": null,
   "id": "93f86a73-0a1e-4cdd-9626-b622949a33d6",
   "metadata": {},
   "outputs": [],
   "source": [
    "import cv2 \n",
    "import os "
   ]
  },
  {
   "cell_type": "code",
   "execution_count": null,
   "id": "8971f247-bc23-4a48-91c5-07b362e59133",
   "metadata": {},
   "outputs": [],
   "source": [
    "\"\"\"\n",
    "The Paths to important folders have to be changed for your system.\n",
    "\"\"\"\n",
    "\n",
    "# Name of this experiment\n",
    "model_name = 'gal_125_8'\n",
    "\n",
    "# This folder will be created and filled with txt.files for each sample after you run the Pytorch Dataset Notebook\n",
    "dataset_folder = f'data/dataset_samples'\n",
    "\n",
    "# The folder at which the model will be saved. This folder has to be created for your system \n",
    "model_folder = f'data/models/{model_name}'\n",
    "os.makedirs(model_folder, exist_ok=True)\n",
    "\n",
    "\n",
    "# Folder in which the tokenizer will be saved\n",
    "tokenizer_folder = f'data/tokenizers/{model_name}'\n",
    "os.makedirs(tokenizer_folder, exist_ok=True)\n"
   ]
  },
  {
   "cell_type": "code",
   "execution_count": null,
   "id": "56cf1522-b7db-4362-894d-85fe0d57cba5",
   "metadata": {},
   "outputs": [],
   "source": [
    "files = os.listdir(model_folder)\n",
    "\n",
    "\n",
    "img = []\n",
    "\n",
    "for j in range(0, 24000, 500):\n",
    "    #print(j, 'j')\n",
    "    for i in range(24):\n",
    "        #print(i, 'i')\n",
    "        path = f'{model_folder}/Output_TSNE_{j}_{i}.png'\n",
    "        img.append(path)\n",
    "        \n",
    "four_cc = cv2.VideoWriter_fourcc(*'mp4v')\n",
    "frame = cv2.imread(img[0])\n",
    "size = list(frame.shape[:2])\n",
    "#print(size)\n",
    "video = cv2.VideoWriter(f'{model_folder}/interpoliert_colors_slower.mp4', four_cc, 24, size)\n",
    "\n",
    "for i , path in enumerate(img):\n",
    "    video.write(cv2.imread(path))\n",
    "\n",
    "video.release()\n"
   ]
  },
  {
   "cell_type": "code",
   "execution_count": null,
   "id": "de803462-e8d4-4602-84b6-dfbb02c07610",
   "metadata": {},
   "outputs": [],
   "source": []
  }
 ],
 "metadata": {
  "kernelspec": {
   "display_name": "Python 3 (ipykernel)",
   "language": "python",
   "name": "python3"
  },
  "language_info": {
   "codemirror_mode": {
    "name": "ipython",
    "version": 3
   },
   "file_extension": ".py",
   "mimetype": "text/x-python",
   "name": "python",
   "nbconvert_exporter": "python",
   "pygments_lexer": "ipython3",
   "version": "3.10.0"
  }
 },
 "nbformat": 4,
 "nbformat_minor": 5
}
